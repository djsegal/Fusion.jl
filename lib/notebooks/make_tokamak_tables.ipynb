{
 "cells": [
  {
   "cell_type": "code",
   "execution_count": 1,
   "metadata": {
    "collapsed": false,
    "scrolled": true
   },
   "outputs": [
    {
     "name": "stderr",
     "output_type": "stream",
     "text": [
      "\u001b[1m\u001b[34mINFO: Nothing to be done\n",
      "\u001b[0m\u001b[1m\u001b[34mINFO: METADATA is out-of-date — you may not have the latest version of Tokamak\n",
      "\u001b[0m\u001b[1m\u001b[34mINFO: Use `Pkg.update()` to get the latest versions of your packages\n",
      "\u001b[0m\u001b[1m\u001b[34mINFO: Nothing to be done\n",
      "\u001b[0m\u001b[1m\u001b[34mINFO: METADATA is out-of-date — you may not have the latest version of Interact\n",
      "\u001b[0m\u001b[1m\u001b[34mINFO: Use `Pkg.update()` to get the latest versions of your packages\n",
      "\u001b[0m"
     ]
    },
    {
     "data": {
      "text/html": [
       "<div id=\"interact-js-shim\">\n",
       "    <script charset=\"utf-8\">\n",
       "(function (IPython, $, _, MathJax) {\n",
       "    $.event.special.destroyed = {\n",
       "\tremove: function(o) {\n",
       "\t    if (o.handler) {\n",
       "\t\to.handler.apply(this, arguments)\n",
       "\t    }\n",
       "\t}\n",
       "    }\n",
       "\n",
       "    var OutputArea = IPython.version >= \"4.0.0\" ? require(\"notebook/js/outputarea\").OutputArea : IPython.OutputArea;\n",
       "\n",
       "    var redrawValue = function (container, type, val) {\n",
       "\tvar selector = $(\"<div/>\");\n",
       "\tvar oa = new OutputArea(_.extend(selector, {\n",
       "\t    selector: selector,\n",
       "\t    prompt_area: true,\n",
       "\t    events: IPython.events,\n",
       "\t    keyboard_manager: IPython.keyboard_manager\n",
       "\t})); // Hack to work with IPython 2.1.0\n",
       "\n",
       "\tswitch (type) {\n",
       "\tcase \"image/png\":\n",
       "            var _src = 'data:' + type + ';base64,' + val;\n",
       "\t    $(container).find(\"img\").attr('src', _src);\n",
       "\t    break;\n",
       "\tcase \"text/latex\":\n",
       "\t\tif (MathJax){\n",
       "\t\t\tvar math = MathJax.Hub.getAllJax(container)[0];\n",
       "\t\t\tMathJax.Hub.Queue([\"Text\", math, val.replace(/^\\${1,2}|\\${1,2}$/g, '')]);\n",
       "\t\t\tbreak;\n",
       "\t\t}\n",
       "\tdefault:\n",
       "\t    var toinsert = OutputArea.append_map[type].apply(\n",
       "\t\toa, [val, {}, selector]\n",
       "\t    );\n",
       "\t    $(container).empty().append(toinsert.contents());\n",
       "\t    selector.remove();\n",
       "\t}\n",
       "    }\n",
       "\n",
       "\n",
       "    $(document).ready(function() {\n",
       "\tfunction initComm(evt, data) {\n",
       "\t    var comm_manager = data.kernel.comm_manager;\n",
       "        //_.extend(comm_manager.targets, require(\"widgets/js/widget\"))\n",
       "\t    comm_manager.register_target(\"Signal\", function (comm) {\n",
       "            comm.on_msg(function (msg) {\n",
       "                var val = msg.content.data.value;\n",
       "                $(\".signal-\" + comm.comm_id).each(function() {\n",
       "                var type = $(this).data(\"type\");\n",
       "                if (typeof(val[type]) !== \"undefined\" && val[type] !== null) {\n",
       "                    redrawValue(this, type, val[type], type);\n",
       "                }\n",
       "                });\n",
       "                delete val;\n",
       "                delete msg.content.data.value;\n",
       "            });\n",
       "\t    });\n",
       "\n",
       "\t    // coordingate with Comm and redraw Signals\n",
       "\t    // XXX: Test using Reactive here to improve performance\n",
       "\t    $([IPython.events]).on(\n",
       "\t\t'output_appended.OutputArea', function (event, type, value, md, toinsert) {\n",
       "\t\t    if (md && md.reactive) {\n",
       "                // console.log(md.comm_id);\n",
       "                toinsert.addClass(\"signal-\" + md.comm_id);\n",
       "                toinsert.data(\"type\", type);\n",
       "                // Signal back indicating the mimetype required\n",
       "                var comm_manager = IPython.notebook.kernel.comm_manager;\n",
       "                var comm = comm_manager.comms[md.comm_id];\n",
       "                comm.then(function (c) {\n",
       "                    c.send({action: \"subscribe_mime\",\n",
       "                       mime: type});\n",
       "                    toinsert.bind(\"destroyed\", function() {\n",
       "                        c.send({action: \"unsubscribe_mime\",\n",
       "                               mime: type});\n",
       "                    });\n",
       "                })\n",
       "\t\t    }\n",
       "\t    });\n",
       "\t}\n",
       "\n",
       "\ttry {\n",
       "\t    // try to initialize right away. otherwise, wait on the status_started event.\n",
       "\t    initComm(undefined, IPython.notebook);\n",
       "\t} catch (e) {\n",
       "\t    $([IPython.events]).on('kernel_created.Kernel kernel_created.Session', initComm);\n",
       "\t}\n",
       "    });\n",
       "})(IPython, jQuery, _, MathJax);\n",
       "</script>\n",
       "    <script>\n",
       "        window.interactLoadedFlag = true\n",
       "       $(\"#interact-js-shim\").bind(\"destroyed\", function () {\n",
       "           if (window.interactLoadedFlag) {\n",
       "               console.warn(\"JavaScript required by Interact will be removed if you remove this cell or run using Interact more than once.\")\n",
       "           }\n",
       "       })\n",
       "       $([IPython.events]).on(\"kernel_starting.Kernel kernel_restarting.Kernel\", function () { window.interactLoadedFlag = false })\n",
       "   </script>\n",
       "</div>"
      ]
     },
     "metadata": {},
     "output_type": "display_data"
    },
    {
     "name": "stderr",
     "output_type": "stream",
     "text": [
      "\u001b[1m\u001b[34mINFO: Nothing to be done\n",
      "\u001b[0m\u001b[1m\u001b[34mINFO: METADATA is out-of-date — you may not have the latest version of DataStructures\n",
      "\u001b[0m\u001b[1m\u001b[34mINFO: Use `Pkg.update()` to get the latest versions of your packages\n",
      "\u001b[0mWARNING: using DefaultSymbols.cd in module Tokamak conflicts with an existing identifier.\n",
      "WARNING: imported binding for cd overwritten in module Tokamak\n",
      "WARNING: using DataStructures.update! in module Main conflicts with an existing identifier.\n"
     ]
    }
   ],
   "source": [
    "Pkg.add(\"Tokamak\")\n",
    "Pkg.add(\"Interact\")\n",
    "Pkg.add(\"DataStructures\")\n",
    "\n",
    "using Tokamak\n",
    "using Interact\n",
    "using DataStructures"
   ]
  },
  {
   "cell_type": "code",
   "execution_count": 2,
   "metadata": {
    "collapsed": false
   },
   "outputs": [
    {
     "data": {
      "text/plain": [
       "make_output_table (generic function with 2 methods)"
      ]
     },
     "execution_count": 2,
     "metadata": {},
     "output_type": "execute_result"
    }
   ],
   "source": [
    "function make_output_table(solved_case, design=\"Arc\")\n",
    "    \n",
    "    tokamak_jl_data = parse_tokamak_data(solved_case)\n",
    "    \n",
    "    if design == \"Arc\"\n",
    "        paper_data = arc_paper_data()\n",
    "        old_code_data = arc_cerfon_data()\n",
    "    elseif design == \"Act 1\"\n",
    "        paper_data = act_1_paper_data()\n",
    "    elseif design == \"Act 2\"\n",
    "        paper_data = act_2_paper_data()\n",
    "    else\n",
    "        error(\"Invalid design for paper selection\")\n",
    "    end\n",
    "    \n",
    "    header_row = [\"Variable\", \"Paper\"]\n",
    " \n",
    "    if design == \"Arc\"\n",
    "        push!(header_row, \"Old Code\")\n",
    "    end    \n",
    "    \n",
    "    push!(header_row, \"Tokamak.jl\")\n",
    "\n",
    "    num_keys = length(keys(tokamak_jl_data))\n",
    "    \n",
    "    mapped_data = [ [] for ii in 1:num_keys ]\n",
    "    \n",
    "    for (cur_index, cur_key) in enumerate(keys(tokamak_jl_data))\n",
    "        push!(mapped_data[cur_index], cur_key)\n",
    "        \n",
    "        push!(mapped_data[cur_index], paper_data[cur_key])\n",
    "        \n",
    "        if design == \"Arc\"\n",
    "            push!(mapped_data[cur_index], old_code_data[cur_key])\n",
    "        end\n",
    "        \n",
    "        push!(mapped_data[cur_index], tokamak_jl_data[cur_key])\n",
    "    end\n",
    "    \n",
    "    cur_table = vcat( (x' for x in mapped_data)... )\n",
    "\n",
    "    Tokamak.HTMLElements.table(cur_table, header_row=header_row, title=\"$design Input\")    \n",
    "end"
   ]
  },
  {
   "cell_type": "code",
   "execution_count": 3,
   "metadata": {
    "collapsed": false
   },
   "outputs": [
    {
     "data": {
      "text/plain": [
       "parse_tokamak_data (generic function with 1 method)"
      ]
     },
     "execution_count": 3,
     "metadata": {},
     "output_type": "execute_result"
    }
   ],
   "source": [
    "function parse_tokamak_data(solved_case)\n",
    "    cur_table_data = OrderedDict(\n",
    "        \"B_0\" => @sprintf(\"%.3g\", solved_case[\"B_0\"]),\n",
    "        \"P_F\" => @sprintf(\"%.4g\", solved_case[\"P_F\"]),\n",
    "        \"I_M\" => @sprintf(\"%.3g\", solved_case[\"I_M\"]),\n",
    "        \"R_0\" => @sprintf(\"%.3g\", solved_case[\"R_0\"]),\n",
    "        \" a \" => @sprintf(\"%.3g\", solved_case[\"a\"]),\n",
    "        \"q_K\" => \"-\",\n",
    "        \"T_i\" => @sprintf(\"%.3g\", solved_case[\"T_k\"]),\n",
    "        \"n_e\" => @sprintf(\"%.3g\", solved_case[\"n_bar\"]),\n",
    "        \"f_CD\" => @sprintf(\"%.3g\", solved_case[\"f_CD\"]),\n",
    "        \"f_B\" => @sprintf(\"%.3g\", solved_case[\"f_B\"]),\n",
    "        \"P_H\" => @sprintf(\"%.3g\", solved_case[\"P_H\"]),\n",
    "        \"beta\" => @sprintf(\"%.3g\", solved_case[\"beta\"]),\n",
    "        \"P_W\" => @sprintf(\"%.3g\", solved_case[\"P_W\"]),\n",
    "        \"P_alpha\" => @sprintf(\"%.3g\", solved_case[\"P_alpha\"]),\n",
    "        \"P_BR\" => @sprintf(\"%.3g\", solved_case[\"P_BR\"])\n",
    "    ) \n",
    "    \n",
    "    cur_table_data\n",
    "end"
   ]
  },
  {
   "cell_type": "code",
   "execution_count": 4,
   "metadata": {
    "collapsed": false
   },
   "outputs": [
    {
     "data": {
      "text/plain": [
       "arc_paper_data (generic function with 1 method)"
      ]
     },
     "execution_count": 4,
     "metadata": {},
     "output_type": "execute_result"
    }
   ],
   "source": [
    "function arc_paper_data()\n",
    "    cur_table_data = OrderedDict(\n",
    "        \"B_0\" => 9.2,\n",
    "        \"P_F\" => 525,\n",
    "        \"I_M\" => 7.8,\n",
    "        \"R_0\" => 3.3,\n",
    "        \" a \" => 1.13,\n",
    "        \"q_K\" => 5.0,\n",
    "        \"T_i\" => 14,\n",
    "        \"n_e\" => 1.3,\n",
    "        \"f_CD\" => 0.37,\n",
    "        \"f_B\" => 0.63,\n",
    "        \"P_H\" => 39,\n",
    "        \"beta\" => 0.026,\n",
    "        \"P_W\" => 2.5,\n",
    "        \"P_alpha\" => \"-\",\n",
    "        \"P_BR\" => \"-\"\n",
    "    ) \n",
    "    \n",
    "    cur_table_data\n",
    "end"
   ]
  },
  {
   "cell_type": "code",
   "execution_count": 5,
   "metadata": {
    "collapsed": false
   },
   "outputs": [
    {
     "data": {
      "text/plain": [
       "act_1_paper_data (generic function with 1 method)"
      ]
     },
     "execution_count": 5,
     "metadata": {},
     "output_type": "execute_result"
    }
   ],
   "source": [
    "function act_1_paper_data()\n",
    "    cur_table_data = OrderedDict(\n",
    "        \"B_0\" => 6.0,\n",
    "        \"P_F\" => 1813,\n",
    "        \"I_M\" => 10.95,\n",
    "        \"R_0\" => 6.25,\n",
    "        \" a \" => 1.56,\n",
    "        \"q_K\" => 4.5,\n",
    "        \"T_i\" => 20.6,\n",
    "        \"n_e\" => 1.3,\n",
    "        \"f_CD\" => 0.09,\n",
    "        \"f_B\" => 0.91,\n",
    "        \"P_H\" => 42.7,\n",
    "        \"beta\" => 0.0475,\n",
    "        \"P_W\" => 2.45,\n",
    "        \"P_alpha\" => 363,\n",
    "        \"P_BR\" => 56.3\n",
    "    ) \n",
    "    \n",
    "    cur_table_data\n",
    "end"
   ]
  },
  {
   "cell_type": "code",
   "execution_count": 6,
   "metadata": {
    "collapsed": false
   },
   "outputs": [
    {
     "data": {
      "text/plain": [
       "act_2_paper_data (generic function with 1 method)"
      ]
     },
     "execution_count": 6,
     "metadata": {},
     "output_type": "execute_result"
    }
   ],
   "source": [
    "function act_2_paper_data()\n",
    "    cur_table_data = OrderedDict(\n",
    "        \"B_0\" => 8.75,\n",
    "        \"P_F\" => 2637,\n",
    "        \"I_M\" => 13.98,\n",
    "        \"R_0\" => 9.75,\n",
    "        \" a \" => 2.44,\n",
    "        \"q_K\" => 8.0,\n",
    "        \"T_i\" => 17.8,\n",
    "        \"n_e\" => 0.86,\n",
    "        \"f_CD\" => 0.23,\n",
    "        \"f_B\" => 0.77,\n",
    "        \"P_H\" => 105.5,\n",
    "        \"beta\" => 0.0225,\n",
    "        \"P_W\" => 1.46,\n",
    "        \"P_alpha\" => 528,\n",
    "        \"P_BR\" => 96.5\n",
    "    ) \n",
    "    \n",
    "    cur_table_data\n",
    "end"
   ]
  },
  {
   "cell_type": "code",
   "execution_count": 7,
   "metadata": {
    "collapsed": false
   },
   "outputs": [
    {
     "data": {
      "text/plain": [
       "arc_cerfon_data (generic function with 1 method)"
      ]
     },
     "execution_count": 7,
     "metadata": {},
     "output_type": "execute_result"
    }
   ],
   "source": [
    "function arc_cerfon_data()    \n",
    "    cur_table_data = OrderedDict(\n",
    "        \"B_0\" => 8.7,\n",
    "        \"P_F\" => 588,\n",
    "        \"I_M\" => 7.5,\n",
    "        \"R_0\" => 3.3,\n",
    "        \" a \" => 1.1,\n",
    "        \"q_K\" => 5.0,\n",
    "        \"T_i\" => 12.5,\n",
    "        \"n_e\" => 1.3,\n",
    "        \"f_CD\" => 0.43,\n",
    "        \"f_B\" => 0.57,\n",
    "        \"P_H\" => 43,\n",
    "        \"beta\" => 0.026,\n",
    "        \"P_W\" => 2.1,\n",
    "        \"P_alpha\" => \"-\",\n",
    "        \"P_BR\" => \"-\"\n",
    "    )     \n",
    "    \n",
    "    cur_table_data\n",
    "end"
   ]
  },
  {
   "cell_type": "code",
   "execution_count": 8,
   "metadata": {
    "collapsed": false,
    "scrolled": true
   },
   "outputs": [
    {
     "data": {
      "text/html": [
       "<h2 style='padding: 10px'>Arc Input</h2><table class='table table-striped'><thead><tr><th>Variable</th><th>Paper</th><th>Old Code</th><th>Tokamak.jl</th></tr></thead><tbody><tr><td>B_0</td><td>9.2</td><td>8.7</td><td>3.3</td></tr><tr><td>P_F</td><td>525</td><td>588</td><td>632.2</td></tr><tr><td>I_M</td><td>7.8</td><td>7.5</td><td>7.86</td></tr><tr><td>R_0</td><td>3.3</td><td>3.3</td><td>3.3</td></tr><tr><td> a </td><td>1.13</td><td>1.1</td><td>1.13</td></tr><tr><td>q_K</td><td>5.0</td><td>5.0</td><td>-</td></tr><tr><td>T_i</td><td>14</td><td>12.5</td><td>13</td></tr><tr><td>n_e</td><td>1.3</td><td>1.3</td><td>1.37</td></tr><tr><td>f_CD</td><td>0.37</td><td>0.43</td><td>0.334</td></tr><tr><td>f_B</td><td>0.63</td><td>0.57</td><td>0.666</td></tr><tr><td>P_H</td><td>39</td><td>43</td><td>37.2</td></tr><tr><td>beta</td><td>0.026</td><td>0.026</td><td>0.0725</td></tr><tr><td>P_W</td><td>2.5</td><td>2.1</td><td>2.19</td></tr><tr><td>P_alpha</td><td>-</td><td>-</td><td>126</td></tr><tr><td>P_BR</td><td>-</td><td>-</td><td>0</td></tr></tbody></table>"
      ]
     },
     "metadata": {},
     "output_type": "display_data"
    }
   ],
   "source": [
    "@manipulate for design=[\"arc\", \"act_1\", \"act_2\",\"arc \", \"act_1 \", \"act_2 \"], kappa=linspace(1.4,2.3,11), rad_scale=linspace(1.7,2.5,11)\n",
    "    cur_design = strip(design)\n",
    "    \n",
    "    Tokamak.load_input(\"defaults.jl\", true)\n",
    "    Tokamak.load_input(\"lib/input_decks/$cur_design.jl\", true)\n",
    "    \n",
    "    if cur_design != \"arc\"\n",
    "        Tokamak.load_input(\"kappa = $kappa\")\n",
    "    end\n",
    "    \n",
    "    Tokamak.load_input(\"rad_scaling = $rad_scale\")\n",
    "\n",
    "    if cur_design == \"arc\"\n",
    "        sought_R_0 = 3.3\n",
    "    elseif cur_design == \"act_1\"\n",
    "        sought_R_0 = 6.25\n",
    "    elseif cur_design == \"act_2\"\n",
    "        sought_R_0 = 9.75\n",
    "    else\n",
    "        error(\"Invalid design for radius selection\")\n",
    "    end    \n",
    "    \n",
    "    found_data = Tokamak.scan_for_R_0(sought_R_0)\n",
    "    solved_case = Tokamak.analyze_solved_case(found_data)\n",
    "\n",
    "    table_html = make_output_table(solved_case, replace(ucfirst(cur_design), \"_\", \" \"))    \n",
    "    \n",
    "    IJulia.clear_output(true)\n",
    "    display(\"text/html\", table_html)\n",
    "end;"
   ]
  },
  {
   "cell_type": "code",
   "execution_count": 9,
   "metadata": {
    "collapsed": false
   },
   "outputs": [
    {
     "name": "stdout",
     "output_type": "stream",
     "text": [
      "24.9\n",
      "6.51890909090909\n"
     ]
    },
    {
     "data": {
      "text/html": [
       "<h2 style='padding: 10px'>Act 1 Input</h2><table class='table table-striped'><thead><tr><th>Variable</th><th>Paper</th><th>Tokamak.jl</th></tr></thead><tbody><tr><td>B_0</td><td>6.0</td><td>6.25</td></tr><tr><td>P_F</td><td>1813</td><td>717.2</td></tr><tr><td>I_M</td><td>10.95</td><td>7.21</td></tr><tr><td>R_0</td><td>6.25</td><td>6.25</td></tr><tr><td> a </td><td>1.56</td><td>1.56</td></tr><tr><td>q_K</td><td>4.5</td><td>-</td></tr><tr><td>T_i</td><td>20.6</td><td>10.5</td></tr><tr><td>n_e</td><td>1.3</td><td>0.939</td></tr><tr><td>f_CD</td><td>0.09</td><td>0.363</td></tr><tr><td>f_B</td><td>0.91</td><td>0.637</td></tr><tr><td>P_H</td><td>42.7</td><td>38.4</td></tr><tr><td>beta</td><td>0.0475</td><td>0.0312</td></tr><tr><td>P_W</td><td>2.45</td><td>0.828</td></tr><tr><td>P_alpha</td><td>363</td><td>143</td></tr><tr><td>P_BR</td><td>56.3</td><td>0</td></tr></tbody></table>"
      ],
      "text/plain": [
       "HTML{String}(\"<h2 style='padding: 10px'>Act 1 Input</h2><table class='table table-striped'><thead><tr><th>Variable</th><th>Paper</th><th>Tokamak.jl</th></tr></thead><tbody><tr><td>B_0</td><td>6.0</td><td>6.25</td></tr><tr><td>P_F</td><td>1813</td><td>717.2</td></tr><tr><td>I_M</td><td>10.95</td><td>7.21</td></tr><tr><td>R_0</td><td>6.25</td><td>6.25</td></tr><tr><td> a </td><td>1.56</td><td>1.56</td></tr><tr><td>q_K</td><td>4.5</td><td>-</td></tr><tr><td>T_i</td><td>20.6</td><td>10.5</td></tr><tr><td>n_e</td><td>1.3</td><td>0.939</td></tr><tr><td>f_CD</td><td>0.09</td><td>0.363</td></tr><tr><td>f_B</td><td>0.91</td><td>0.637</td></tr><tr><td>P_H</td><td>42.7</td><td>38.4</td></tr><tr><td>beta</td><td>0.0475</td><td>0.0312</td></tr><tr><td>P_W</td><td>2.45</td><td>0.828</td></tr><tr><td>P_alpha</td><td>363</td><td>143</td></tr><tr><td>P_BR</td><td>56.3</td><td>0</td></tr></tbody></table>\")"
      ]
     },
     "execution_count": 9,
     "metadata": {},
     "output_type": "execute_result"
    }
   ],
   "source": [
    "Tokamak.load_input(\"lib/input_decks/act_1.jl\", true)\n",
    "found_data = Tokamak.scan_for_R_0(6.25)\n",
    "solved_case = Tokamak.analyze_solved_case(found_data)\n",
    "IJulia.clear_output(true)\n",
    "println(Tokamak.Q)\n",
    "println(Tokamak.Q_E())\n",
    "table_html = make_output_table(solved_case, replace(ucfirst(\"act_1\"), \"_\", \" \"))    "
   ]
  },
  {
   "cell_type": "code",
   "execution_count": 10,
   "metadata": {
    "collapsed": false
   },
   "outputs": [
    {
     "name": "stdout",
     "output_type": "stream",
     "text": [
      "wooga wooga\n"
     ]
    },
    {
     "ename": "LoadError",
     "evalue": "PyError (:PyFloat_AsDouble) <type 'exceptions.TypeError'>\nTypeError(\"can't convert expression to float\",)\n  File \"/Applications/JuliaPro-0.5.1.1.app/Contents/Resources/pkgs-0.5.1.1/v0.5/Conda/deps/usr/lib/python2.7/site-packages/sympy/core/expr.py\", line 226, in __float__\n    raise TypeError(\"can't convert expression to float\")\n",
     "output_type": "error",
     "traceback": [
      "PyError (:PyFloat_AsDouble) <type 'exceptions.TypeError'>\nTypeError(\"can't convert expression to float\",)\n  File \"/Applications/JuliaPro-0.5.1.1.app/Contents/Resources/pkgs-0.5.1.1/v0.5/Conda/deps/usr/lib/python2.7/site-packages/sympy/core/expr.py\", line 226, in __float__\n    raise TypeError(\"can't convert expression to float\")\n",
      "",
      " in pyerr_check at /Applications/JuliaPro-0.5.1.1.app/Contents/Resources/pkgs-0.5.1.1/v0.5/PyCall/src/exception.jl:56 [inlined]",
      " in convert(::Type{Float64}, ::PyCall.PyObject) at /Applications/JuliaPro-0.5.1.1.app/Contents/Resources/pkgs-0.5.1.1/v0.5/PyCall/src/conversions.jl:42",
      " in convert(::Type{Float64}, ::SymPy.Sym) at /Applications/JuliaPro-0.5.1.1.app/Contents/Resources/pkgs-0.5.1.1/v0.5/SymPy/src/types.jl:72",
      " in wave_equation_set!(::Array{Float64,1}, ::Array{Float64,1}) at /Applications/JuliaPro-0.5.1.1.app/Contents/Resources/pkgs-0.5.1.1/v0.5/Tokamak/src/../config/../src/functions/waves/wave_equation_set!.jl:15",
      " in (::NLsolve.#fg!#2{Tokamak.#wave_equation_set!})(::Array{Float64,1}, ::Array{Float64,1}, ::Array{Float64,2}) at /Applications/JuliaPro-0.5.1.1.app/Contents/Resources/pkgs-0.5.1.1/v0.5/NLsolve/src/differentiable_functions.jl:21",
      " in trust_region_(::NLsolve.DifferentiableMultivariateFunction, ::Array{Float64,1}, ::Float64, ::Float64, ::Int64, ::Bool, ::Bool, ::Bool, ::Float64, ::Bool) at /Applications/JuliaPro-0.5.1.1.app/Contents/Resources/pkgs-0.5.1.1/v0.5/NLsolve/src/trust_region.jl:87",
      " in #nlsolve#17(::Symbol, ::Float64, ::Float64, ::Int64, ::Bool, ::Bool, ::Bool, ::Function, ::Float64, ::Bool, ::NLsolve.#nlsolve, ::NLsolve.DifferentiableMultivariateFunction, ::Array{Float64,1}) at /Applications/JuliaPro-0.5.1.1.app/Contents/Resources/pkgs-0.5.1.1/v0.5/NLsolve/src/nlsolve_func_defs.jl:24",
      " in (::NLsolve.#kw##nlsolve)(::Array{Any,1}, ::NLsolve.#nlsolve, ::NLsolve.DifferentiableMultivariateFunction, ::Array{Float64,1}) at ./<missing>:0",
      " in #nlsolve#19(::Symbol, ::Float64, ::Float64, ::Int64, ::Bool, ::Bool, ::Bool, ::Function, ::Float64, ::Bool, ::Bool, ::NLsolve.#nlsolve, ::Tokamak.#wave_equation_set!, ::Array{Float64,1}) at /Applications/JuliaPro-0.5.1.1.app/Contents/Resources/pkgs-0.5.1.1/v0.5/NLsolve/src/nlsolve_func_defs.jl:70",
      " in solve_wave_equations() at /Applications/JuliaPro-0.5.1.1.app/Contents/Resources/pkgs-0.5.1.1/v0.5/Tokamak/src/../config/../src/functions/waves/solve_wave_equations.jl:12",
      " in get_eta_CD() at /Applications/JuliaPro-0.5.1.1.app/Contents/Resources/pkgs-0.5.1.1/v0.5/Tokamak/src/../config/../src/functions/waves/get_eta_CD.jl:13",
      " in K_CD_hat at /Applications/JuliaPro-0.5.1.1.app/Contents/Resources/pkgs-0.5.1.1/v0.5/Tokamak/src/../config/../src/functions/coeffs/K_CD_hat.jl:9 [inlined]",
      " in K_CD() at /Applications/JuliaPro-0.5.1.1.app/Contents/Resources/pkgs-0.5.1.1/v0.5/Tokamak/src/../config/../src/functions/coeffs/K_CD.jl:9",
      " in calc_possible_values(::SymPy.Sym, ::SymPy.Sym) at /Applications/JuliaPro-0.5.1.1.app/Contents/Resources/pkgs-0.5.1.1/v0.5/Tokamak/src/../config/../src/functions/derived/calc_possible_values.jl:17",
      " in solved_R_0_from_beta() at /Applications/JuliaPro-0.5.1.1.app/Contents/Resources/pkgs-0.5.1.1/v0.5/Tokamak/src/../config/../src/functions/solved/solved_R_0_from_beta.jl:27",
      " in solve_equation_set(::Float64, ::DataStructures.OrderedDict{Any,Any}) at /Applications/JuliaPro-0.5.1.1.app/Contents/Resources/pkgs-0.5.1.1/v0.5/Tokamak/src/../config/../src/functions/meta/solve_equation_set.jl:28",
      " in sweep_T_k(::LinSpace{Float64}) at /Applications/JuliaPro-0.5.1.1.app/Contents/Resources/pkgs-0.5.1.1/v0.5/Tokamak/src/../config/../src/functions/meta/sweep_T_k.jl:32",
      " in #scan_for_R_0#3(::Float64, ::Bool, ::Function, ::Float64, ::LinSpace{Float64}) at /Applications/JuliaPro-0.5.1.1.app/Contents/Resources/pkgs-0.5.1.1/v0.5/Tokamak/src/../config/../src/functions/meta/scan_for_R_0.jl:11",
      " in scan_for_R_0(::Float64) at /Applications/JuliaPro-0.5.1.1.app/Contents/Resources/pkgs-0.5.1.1/v0.5/Tokamak/src/../config/../src/functions/meta/scan_for_R_0.jl:8"
     ]
    }
   ],
   "source": [
    "Tokamak.load_input(\"defaults.jl\", true)\n",
    "Tokamak.load_input(\"act_2.jl\", true)\n",
    "found_data = Tokamak.scan_for_R_0(9.75)\n",
    "solved_case = Tokamak.analyze_solved_case(found_data)\n",
    "IJulia.clear_output(true)\n",
    "println(Tokamak.Q)\n",
    "println(Tokamak.Q_E())\n",
    "table_html = make_output_table(solved_case, replace(ucfirst(\"act_2\"), \"_\", \" \"))    "
   ]
  },
  {
   "cell_type": "code",
   "execution_count": null,
   "metadata": {
    "collapsed": true
   },
   "outputs": [],
   "source": []
  }
 ],
 "metadata": {
  "kernelspec": {
   "display_name": "Julia 0.5.1",
   "language": "julia",
   "name": "julia-0.5"
  },
  "language_info": {
   "file_extension": ".jl",
   "mimetype": "application/julia",
   "name": "julia",
   "version": "0.5.1"
  },
  "widgets": {
   "state": {
    "7bbc568f-3d59-42e8-a35b-0adb3b3b2868": {
     "views": [
      {
       "cell_index": 7
      }
     ]
    },
    "e0ad6019-3950-4c72-8d8d-79f4097643bd": {
     "views": [
      {
       "cell_index": 7
      }
     ]
    },
    "fe34a168-d67c-4d35-a3d7-cb6f031f8348": {
     "views": [
      {
       "cell_index": 7
      }
     ]
    }
   },
   "version": "1.2.0"
  }
 },
 "nbformat": 4,
 "nbformat_minor": 2
}
