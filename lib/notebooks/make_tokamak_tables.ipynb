{
 "cells": [
  {
   "cell_type": "code",
   "execution_count": 1,
   "metadata": {
    "collapsed": false
   },
   "outputs": [
    {
     "data": {
      "text/html": [
       "<div id=\"interact-js-shim\">\n",
       "    <script charset=\"utf-8\">\n",
       "(function (IPython, $, _, MathJax) {\n",
       "    $.event.special.destroyed = {\n",
       "\tremove: function(o) {\n",
       "\t    if (o.handler) {\n",
       "\t\to.handler.apply(this, arguments)\n",
       "\t    }\n",
       "\t}\n",
       "    }\n",
       "\n",
       "    var OutputArea = IPython.version >= \"4.0.0\" ? require(\"notebook/js/outputarea\").OutputArea : IPython.OutputArea;\n",
       "\n",
       "    var redrawValue = function (container, type, val) {\n",
       "\tvar selector = $(\"<div/>\");\n",
       "\tvar oa = new OutputArea(_.extend(selector, {\n",
       "\t    selector: selector,\n",
       "\t    prompt_area: true,\n",
       "\t    events: IPython.events,\n",
       "\t    keyboard_manager: IPython.keyboard_manager\n",
       "\t})); // Hack to work with IPython 2.1.0\n",
       "\n",
       "\tswitch (type) {\n",
       "\tcase \"image/png\":\n",
       "            var _src = 'data:' + type + ';base64,' + val;\n",
       "\t    $(container).find(\"img\").attr('src', _src);\n",
       "\t    break;\n",
       "\tcase \"text/latex\":\n",
       "\t\tif (MathJax){\n",
       "\t\t\tvar math = MathJax.Hub.getAllJax(container)[0];\n",
       "\t\t\tMathJax.Hub.Queue([\"Text\", math, val.replace(/^\\${1,2}|\\${1,2}$/g, '')]);\n",
       "\t\t\tbreak;\n",
       "\t\t}\n",
       "\tdefault:\n",
       "\t    var toinsert = OutputArea.append_map[type].apply(\n",
       "\t\toa, [val, {}, selector]\n",
       "\t    );\n",
       "\t    $(container).empty().append(toinsert.contents());\n",
       "\t    selector.remove();\n",
       "\t}\n",
       "    }\n",
       "\n",
       "\n",
       "    $(document).ready(function() {\n",
       "\tfunction initComm(evt, data) {\n",
       "\t    var comm_manager = data.kernel.comm_manager;\n",
       "        //_.extend(comm_manager.targets, require(\"widgets/js/widget\"))\n",
       "\t    comm_manager.register_target(\"Signal\", function (comm) {\n",
       "            comm.on_msg(function (msg) {\n",
       "                var val = msg.content.data.value;\n",
       "                $(\".signal-\" + comm.comm_id).each(function() {\n",
       "                var type = $(this).data(\"type\");\n",
       "                if (typeof(val[type]) !== \"undefined\" && val[type] !== null) {\n",
       "                    redrawValue(this, type, val[type], type);\n",
       "                }\n",
       "                });\n",
       "                delete val;\n",
       "                delete msg.content.data.value;\n",
       "            });\n",
       "\t    });\n",
       "\n",
       "\t    // coordingate with Comm and redraw Signals\n",
       "\t    // XXX: Test using Reactive here to improve performance\n",
       "\t    $([IPython.events]).on(\n",
       "\t\t'output_appended.OutputArea', function (event, type, value, md, toinsert) {\n",
       "\t\t    if (md && md.reactive) {\n",
       "                // console.log(md.comm_id);\n",
       "                toinsert.addClass(\"signal-\" + md.comm_id);\n",
       "                toinsert.data(\"type\", type);\n",
       "                // Signal back indicating the mimetype required\n",
       "                var comm_manager = IPython.notebook.kernel.comm_manager;\n",
       "                var comm = comm_manager.comms[md.comm_id];\n",
       "                comm.then(function (c) {\n",
       "                    c.send({action: \"subscribe_mime\",\n",
       "                       mime: type});\n",
       "                    toinsert.bind(\"destroyed\", function() {\n",
       "                        c.send({action: \"unsubscribe_mime\",\n",
       "                               mime: type});\n",
       "                    });\n",
       "                })\n",
       "\t\t    }\n",
       "\t    });\n",
       "\t}\n",
       "\n",
       "\ttry {\n",
       "\t    // try to initialize right away. otherwise, wait on the status_started event.\n",
       "\t    initComm(undefined, IPython.notebook);\n",
       "\t} catch (e) {\n",
       "\t    $([IPython.events]).on('kernel_created.Kernel kernel_created.Session', initComm);\n",
       "\t}\n",
       "    });\n",
       "})(IPython, jQuery, _, MathJax);\n",
       "</script>\n",
       "    <script>\n",
       "        window.interactLoadedFlag = true\n",
       "       $(\"#interact-js-shim\").bind(\"destroyed\", function () {\n",
       "           if (window.interactLoadedFlag) {\n",
       "               console.warn(\"JavaScript required by Interact will be removed if you remove this cell or run using Interact more than once.\")\n",
       "           }\n",
       "       })\n",
       "       $([IPython.events]).on(\"kernel_starting.Kernel kernel_restarting.Kernel\", function () { window.interactLoadedFlag = false })\n",
       "   </script>\n",
       "</div>"
      ]
     },
     "metadata": {},
     "output_type": "display_data"
    },
    {
     "name": "stderr",
     "output_type": "stream",
     "text": [
      "\n",
      "WARNING: deprecated syntax \"abstract Widget\".\n",
      "Use \"abstract type Widget end\" instead.\n",
      "\n",
      "WARNING: deprecated syntax \"abstract InputWidget{T}<:Widget\".\n",
      "Use \"abstract type InputWidget{T}<:Widget end\" instead.\n",
      "\n",
      "WARNING: deprecated syntax \"abstract WidgetMod<:Widget\".\n",
      "Use \"abstract type WidgetMod<:Widget end\" instead.\n",
      "\n",
      "WARNING: deprecated syntax \"abstract Container<:Widget\".\n",
      "Use \"abstract type Container<:Widget end\" instead.\n"
     ]
    }
   ],
   "source": [
    "# Pkg.add(\"Interact\")\n",
    "# Pkg.add(\"DataStructures\")\n",
    "\n",
    "using Tokamak\n",
    "using DataStructures\n",
    "using Interact"
   ]
  },
  {
   "cell_type": "code",
   "execution_count": 10,
   "metadata": {
    "collapsed": false
   },
   "outputs": [
    {
     "data": {
      "text/plain": [
       "parse_tokamak_data (generic function with 1 method)"
      ]
     },
     "execution_count": 10,
     "metadata": {},
     "output_type": "execute_result"
    }
   ],
   "source": [
    "function parse_tokamak_data(solved_case)\n",
    "    cur_table_data = OrderedDict(\n",
    "        \"eta_CD\" => @sprintf(\"%.3g\", solved_case[\"eta_CD\"]),\n",
    "        \"B_0\" => @sprintf(\"%.4g\", solved_case[\"B_0\"]),\n",
    "        \"P_F\" => @sprintf(\"%.4g\", solved_case[\"P_F\"]),\n",
    "        \"I_M\" => @sprintf(\"%.3g\", solved_case[\"I_M\"]),\n",
    "        \"R_0\" => @sprintf(\"%.3g\", solved_case[\"R_0\"]),\n",
    "        \" a \" => @sprintf(\"%.3g\", solved_case[\"a\"]),\n",
    "        \"q_K\" => @sprintf(\"%.3g\", solved_case[\"q_star\"]),\n",
    "        \"T_i\" => @sprintf(\"%.3g\", solved_case[\"T_k\"]),\n",
    "        \"n_e\" => @sprintf(\"%.3g\", solved_case[\"n_bar\"]),\n",
    "        \"f_CD\" => @sprintf(\"%.3g\", solved_case[\"f_CD\"]),\n",
    "        \"f_B\" => @sprintf(\"%.3g\", solved_case[\"f_B\"]),\n",
    "        \"P_H\" => @sprintf(\"%.3g\", solved_case[\"P_H\"]),\n",
    "        \"beta\" => @sprintf(\"%.4g\", solved_case[\"beta\"] * Tokamak.max_beta_N),\n",
    "        \"P_W\" => @sprintf(\"%.4g\", solved_case[\"P_W\"] * Tokamak.max_P_W),\n",
    "        \"P_alpha\" => @sprintf(\"%.4g\", solved_case[\"P_alpha\"]),\n",
    "        \"P_BR\" => @sprintf(\"%.4g\", solved_case[\"P_BR\"]),\n",
    "        \"q_P\" => @sprintf(\"%.4g\", solved_case[\"q_P\"]),\n",
    "        \"constraint\" => solved_case[\"constraint\"],\n",
    "        \"rho_j\" => @sprintf(\"%.4g\", solved_case[\"rho_j\"])\n",
    "    ) \n",
    "    \n",
    "    cur_table_data\n",
    "end"
   ]
  },
  {
   "cell_type": "code",
   "execution_count": 11,
   "metadata": {
    "collapsed": false
   },
   "outputs": [
    {
     "data": {
      "text/plain": [
       "act_1_data (generic function with 1 method)"
      ]
     },
     "execution_count": 11,
     "metadata": {},
     "output_type": "execute_result"
    }
   ],
   "source": [
    "function act_1_data()\n",
    "    cur_table_data = OrderedDict()\n",
    "    \n",
    "    cur_table_data[\"main\"] = OrderedDict(\n",
    "        \"eta_CD\" => 0.4,\n",
    "        \"B_0\" => 6.0,\n",
    "        \"P_F\" => 1813,\n",
    "        \"I_M\" => 10.95,\n",
    "        \"R_0\" => 6.25,\n",
    "        \" a \" => 1.56,\n",
    "        \"q_K\" => 4.5,\n",
    "        \"T_i\" => 20.6,\n",
    "        \"n_e\" => 1.3,\n",
    "        \"f_CD\" => 0.09,\n",
    "        \"f_B\" => 0.91,\n",
    "        \"P_H\" => 42.7,\n",
    "        \"beta\" => 0.056,\n",
    "        \"P_W\" => 2.45,\n",
    "        \"P_alpha\" => 363,\n",
    "        \"P_BR\" => 56.3,\n",
    "        \"q_P\" => 13.7,\n",
    "        \"constraint\" => \"-\",\n",
    "        \"rho_j\" => \"-\"\n",
    "    ) \n",
    "\n",
    "    cur_table_data\n",
    "end"
   ]
  },
  {
   "cell_type": "code",
   "execution_count": 12,
   "metadata": {
    "collapsed": false
   },
   "outputs": [
    {
     "data": {
      "text/plain": [
       "act_2_data (generic function with 1 method)"
      ]
     },
     "execution_count": 12,
     "metadata": {},
     "output_type": "execute_result"
    }
   ],
   "source": [
    "function act_2_data()\n",
    "    cur_table_data = OrderedDict()\n",
    "    \n",
    "    cur_table_data[\"main\"] = OrderedDict(\n",
    "        \"eta_CD\" => 0.4,\n",
    "        \"B_0\" => 8.75,\n",
    "        \"P_F\" => 2637,\n",
    "        \"I_M\" => 13.98,\n",
    "        \"R_0\" => 9.75,\n",
    "        \" a \" => 2.44,\n",
    "        \"q_K\" => 8.0,\n",
    "        \"T_i\" => 17.8,\n",
    "        \"n_e\" => 0.86,\n",
    "        \"f_CD\" => 0.23,\n",
    "        \"f_B\" => 0.77,\n",
    "        \"P_H\" => 105.5,\n",
    "        \"beta\" => 0.026,\n",
    "        \"P_W\" => 1.46,\n",
    "        \"P_alpha\" => 528,\n",
    "        \"P_BR\" => 96.5,\n",
    "        \"q_P\" => 10.0,\n",
    "        \"constraint\" => \"-\",\n",
    "        \"rho_j\" => \"-\"\n",
    "    ) \n",
    "\n",
    "    cur_table_data\n",
    "end"
   ]
  },
  {
   "cell_type": "code",
   "execution_count": 13,
   "metadata": {
    "collapsed": false
   },
   "outputs": [
    {
     "data": {
      "text/plain": [
       "make_output_table (generic function with 1 method)"
      ]
     },
     "execution_count": 13,
     "metadata": {},
     "output_type": "execute_result"
    }
   ],
   "source": [
    "function make_output_table(solved_cases, design, column)\n",
    "    \n",
    "    tokamak_jl_data = OrderedDict()\n",
    "    \n",
    "    for (cur_key, cur_val) in solved_cases\n",
    "        tokamak_jl_data[cur_key] = parse_tokamak_data(cur_val)\n",
    "    end\n",
    "        \n",
    "    if design == \"Act 1\"\n",
    "        paper_data = act_1_data()\n",
    "    elseif design == \"Act 2\"\n",
    "        paper_data = act_2_data()\n",
    "    else\n",
    "        error(\"Invalid design for paper selection\")\n",
    "    end\n",
    "    \n",
    "    header_row = [\"Variable\", \"Paper\"]\n",
    " \n",
    "    for cur_key in keys(tokamak_jl_data)\n",
    "        push!(header_row, cur_key)\n",
    "    end\n",
    "\n",
    "    num_keys = length(keys(paper_data[column]))\n",
    "    \n",
    "    mapped_data = [ [] for ii in 1:num_keys ]\n",
    "    \n",
    "    for (cur_index, cur_key) in enumerate(keys(paper_data[column]))\n",
    "        push!(mapped_data[cur_index], cur_key)\n",
    "        \n",
    "        push!(mapped_data[cur_index], paper_data[column][cur_key])\n",
    "        \n",
    "        for cur_val in values(tokamak_jl_data)\n",
    "            push!(mapped_data[cur_index], cur_val[cur_key])\n",
    "        end\n",
    "    end\n",
    "    \n",
    "    cur_table = vcat( (reshape(x, (1, :)) for x in mapped_data)... )\n",
    "\n",
    "    Tokamak.HTMLElements.table(cur_table, header_row=header_row, title=\"$design Input\")    \n",
    "end"
   ]
  },
  {
   "cell_type": "code",
   "execution_count": 14,
   "metadata": {
    "collapsed": false
   },
   "outputs": [
    {
     "data": {
      "text/plain": [
       "DataStructures.OrderedDict{String,Float64} with 2 entries:\n",
       "  \"act_1\" => 6.0\n",
       "  \"act_2\" => 8.75"
      ]
     },
     "execution_count": 14,
     "metadata": {},
     "output_type": "execute_result"
    }
   ],
   "source": [
    "B_0_dict = OrderedDict(\n",
    "    \"act_1\" => 6.0,\n",
    "    \"act_2\" => 8.75\n",
    ")"
   ]
  },
  {
   "cell_type": "code",
   "execution_count": 22,
   "metadata": {
    "collapsed": false
   },
   "outputs": [
    {
     "data": {
      "text/latex": [
       "\\begin{equation*}\\begin{cases}\"limit\" & \\text{=>} &\"auto\"\\\\\"Q\" & \\text{=>} &30.0\\\\\"nu_n\" & \\text{=>} &0.41\\\\\"f_DT\" & \\text{=>} &0.75\\\\\"Z_eff\" & \\text{=>} &2.2\\\\\"nu_T\" & \\text{=>} &1.15\\\\\"default_eta_CD\" & \\text{=>} &0.2\\\\\"BR_scaling\" & \\text{=>} &1.0\\\\\"enable_eta_CD_derive\" & \\text{=>} &false\\\\\"rho_m\" & \\text{=>} &0.6\\\\\"wave_theta\" & \\text{=>} &60\\\\\\end{cases}\\end{equation*}"
      ],
      "text/plain": [
       "Dict{Any,Any} with 11 entries:\n",
       "  \"limit\"                => \"auto\"\n",
       "  \"Q\"                    => 30.0\n",
       "  \"nu_n\"                 => 0.41\n",
       "  \"f_DT\"                 => 0.75\n",
       "  \"Z_eff\"                => 2.2\n",
       "  \"nu_T\"                 => 1.15\n",
       "  \"default_eta_CD\"       => 0.2\n",
       "  \"BR_scaling\"           => 1.0\n",
       "  \"enable_eta_CD_derive\" => false\n",
       "  \"rho_m\"                => 0.6\n",
       "  \"wave_theta\"           => 60"
      ]
     },
     "execution_count": 22,
     "metadata": {},
     "output_type": "execute_result"
    }
   ],
   "source": [
    "param_dict = Dict(\n",
    "    \"nu_n\" => linspace(round(0.41-0.25,3),round(0.41+0.25,3),21),\n",
    "    \"nu_T\" => linspace(round(1.15-0.25,3),round(1.15+0.25,3),11),\n",
    "    \"f_DT\" => 0.5:0.05:1.0,\n",
    "    \"BR_scaling\" => linspace(-0.5,2.5,13),\n",
    "    \"enable_eta_CD_derive\" => [false, true],\n",
    "    \"limit\" => [\"auto\", \"beta\", \"wall\"],\n",
    "    \"default_eta_CD\" => linspace(0.1,0.3,9),\n",
    "    \"rho_m\" => linspace(0.3,0.9,13),\n",
    "    \"Z_eff\" => linspace(round(2.12-0.72,2),round(2.12+0.72),9),\n",
    "    \"wave_theta\" => 0:30:360,\n",
    "    \"Q\" => 15:2.5:45\n",
    ")\n",
    "\n",
    "other_keys = [\"none\"]\n",
    "append!(other_keys, [ cur_key for cur_key in keys(param_dict)] )\n",
    "\n",
    "default_vals = Dict()\n",
    "\n",
    "for (cur_key, cur_val) in param_dict\n",
    "    if cur_key == \"wave_theta\"\n",
    "        default_vals[cur_key] = 60\n",
    "    elseif isa(cur_val, Array)\n",
    "        default_vals[cur_key] = first(cur_val)\n",
    "    else\n",
    "        default_vals[cur_key] = mean(cur_val)\n",
    "    end\n",
    "end\n",
    "\n",
    "default_vals"
   ]
  },
  {
   "cell_type": "code",
   "execution_count": 26,
   "metadata": {
    "collapsed": false,
    "scrolled": true
   },
   "outputs": [
    {
     "data": {
      "text/html": [
       "<h2 style='padding: 10px'>Act 1 Input</h2><table class='table table-striped'><thead><tr><th>Variable</th><th>Paper</th><th>Tokamak.jl</th></tr></thead><tbody><tr><td>eta_CD</td><td>0.4</td><td>NaN</td></tr><tr><td>B_0</td><td>6.0</td><td>NaN</td></tr><tr><td>P_F</td><td>1813</td><td>NaN</td></tr><tr><td>I_M</td><td>10.95</td><td>NaN</td></tr><tr><td>R_0</td><td>6.25</td><td>NaN</td></tr><tr><td> a </td><td>1.56</td><td>NaN</td></tr><tr><td>q_K</td><td>4.5</td><td>NaN</td></tr><tr><td>T_i</td><td>20.6</td><td>NaN</td></tr><tr><td>n_e</td><td>1.3</td><td>NaN</td></tr><tr><td>f_CD</td><td>0.09</td><td>NaN</td></tr><tr><td>f_B</td><td>0.91</td><td>NaN</td></tr><tr><td>P_H</td><td>42.7</td><td>NaN</td></tr><tr><td>beta</td><td>0.056</td><td>NaN</td></tr><tr><td>P_W</td><td>2.45</td><td>NaN</td></tr><tr><td>P_alpha</td><td>363</td><td>NaN</td></tr><tr><td>P_BR</td><td>56.3</td><td>NaN</td></tr><tr><td>q_P</td><td>13.7</td><td>NaN</td></tr><tr><td>constraint</td><td>-</td><td>NaN</td></tr><tr><td>rho_j</td><td>-</td><td>NaN</td></tr></tbody></table>"
      ]
     },
     "metadata": {},
     "output_type": "display_data"
    }
   ],
   "source": [
    "@manipulate for design=[\"act_1\", \"act_2\"], column=[\"main\"], limit=param_dict[\"limit\"], \n",
    "    eta_CD=param_dict[\"enable_eta_CD_derive\"], Q in slider(param_dict[\"Q\"], value=42.5, label=\"Q\"), \n",
    "    f_DT=param_dict[\"f_DT\"], BR=param_dict[\"BR_scaling\"], nu_n=slider(linspace(0.27,0.31,9), value=0.27, label=\"nu_n\"), nu_T=param_dict[\"nu_T\"], \n",
    "    rho_m=param_dict[\"rho_m\"], kappa in slider(linspace(1.8,2.2,9), value=1.8, label=\"kappa\"), \n",
    "    delta in slider(linspace(0.575,0.63,3), value=0.575, label=\"delta\"), Z_eff=slider(param_dict[\"Z_eff\"], value=2.11, label=\"Z_eff\"), \n",
    "    CD_guess=param_dict[\"default_eta_CD\"], wave_theta in slider(param_dict[\"wave_theta\"], \n",
    "        value=default_vals[\"wave_theta\"], label=\"theta\"), other_key=other_keys, other_val=\"\", \n",
    "    ready=[true, false]\n",
    "    \n",
    "    if !ready\n",
    "        return\n",
    "    end    \n",
    "    \n",
    "    solved_cases = OrderedDict()\n",
    "    \n",
    "    if other_key == \"none\" || other_val == \"\"\n",
    "        key_list = [\"Tokamak.jl\"]\n",
    "    else\n",
    "        if other_key == \"f_DT\"\n",
    "            first_val = f_DT\n",
    "        elseif other_key == \"BR_scaling\"\n",
    "            first_val = BR\n",
    "        elseif other_key == \"rho_m\"\n",
    "            first_val = rho_m\n",
    "        elseif other_key == \"enable_eta_CD_derive\"\n",
    "            first_val = eta_CD\n",
    "        elseif other_key == \"nu_n\"\n",
    "            first_val = nu_n\n",
    "        elseif other_key == \"nu_T\"\n",
    "            first_val = nu_T            \n",
    "        elseif other_key == \"limit\"\n",
    "            first_val = limit\n",
    "        elseif other_key == \"Z_eff\"\n",
    "            first_val = Z_eff            \n",
    "        elseif other_key == \"Q\"\n",
    "            first_val = Q                        \n",
    "        elseif other_key == \"wave_theta\"\n",
    "            first_val = wave_theta                        \n",
    "        end\n",
    "        \n",
    "        key_list = [\"$other_key = $first_val\"]\n",
    "        \n",
    "        if other_val == \"\"\n",
    "            other_val = default_vals[other_key]\n",
    "        end\n",
    "        \n",
    "        push!(key_list, \"$other_key = $other_val\")        \n",
    "    end\n",
    "    \n",
    "    Tokamak.load_input(\"defaults.jl\", true)\n",
    "    Tokamak.load_input(\"$(design).jl\", true)  \n",
    "    \n",
    "    cur_max_beta_N = Tokamak.max_beta_N\n",
    "    cur_max_P_W = Tokamak.max_P_W\n",
    "\n",
    "    for cur_key in key_list\n",
    "        Tokamak.load_input(\"defaults.jl\", true)\n",
    "        Tokamak.load_input(\"$(design).jl\", true)\n",
    "\n",
    "        Tokamak.load_input(\" enable_eta_CD_derive = $eta_CD \")\n",
    "\n",
    "        Tokamak.load_input(\" BR_scaling = $BR \")\n",
    "\n",
    "        Tokamak.load_input(\" nu_n = $nu_n \")\n",
    "        Tokamak.load_input(\" nu_T = $nu_T \")\n",
    "\n",
    "        Tokamak.load_input(\" kappa = $kappa \")\n",
    "        Tokamak.load_input(\" delta = $delta \")\n",
    "        \n",
    "        Tokamak.load_input(\" rho_m = $rho_m \")\n",
    "        Tokamak.load_input(\" Z_eff = $Z_eff \")\n",
    "        \n",
    "        Tokamak.load_input(\" default_eta_CD = $CD_guess \")\n",
    "        \n",
    "        Tokamak.load_input(\" wave_theta = $wave_theta \")\n",
    "        \n",
    "        Tokamak.load_input(\" Q = $Q \")\n",
    "        \n",
    "        if other_val != \"\" && cur_key != \"Tokamak.jl\"\n",
    "            if other_key != \"f_DT\" && other_key != \"limit\"\n",
    "                Tokamak.load_input(cur_key)\n",
    "            end\n",
    "        end\n",
    "        \n",
    "        cur_f_DT = f_DT\n",
    "        cur_limit = limit\n",
    "     \n",
    "        if other_val != \"\" && cur_key != \"Tokamak.jl\"\n",
    "            if other_key == \"f_DT\"\n",
    "                cur_f_DT = parse(split(cur_key,\"=\")[2])\n",
    "            elseif other_key == \"limit\"\n",
    "                cur_limit = strip(split(cur_key,\"=\")[2])\n",
    "            end    \n",
    "        end\n",
    "        \n",
    "        if design == \"act_2\" && isapprox(cur_f_DT, 0.75)\n",
    "            cur_f_DT = 0.74\n",
    "        end\n",
    "\n",
    "        Tokamak.load_input(\" f_DT = $cur_f_DT \")\n",
    "        \n",
    "        if cur_limit == \"beta\"\n",
    "            Tokamak.load_input(\" max_P_W = $(1000 * cur_max_P_W) \")\n",
    "        elseif cur_limit == \"wall\"\n",
    "            Tokamak.load_input(\" max_beta_N = $(1000 * cur_max_beta_N) \")\n",
    "        end\n",
    "\n",
    "        found_data = Tokamak.sweep_B_0([B_0_dict[design]])\n",
    "\n",
    "        filter!((k,v) -> !isa(v, OrderedDict), found_data)\n",
    "\n",
    "        for (cur_sub_key, cur_sub_val) in found_data\n",
    "            found_data[cur_sub_key] = first(cur_sub_val)\n",
    "        end\n",
    "\n",
    "        Tokamak.load_input(\" max_P_W = $(cur_max_P_W) \")\n",
    "        Tokamak.load_input(\" max_beta_N = $(cur_max_beta_N) \")        \n",
    "        \n",
    "        solved_cases[cur_key] = Tokamak.analyze_solved_case(found_data)\n",
    "    end\n",
    "    \n",
    "    table_html = make_output_table(solved_cases, replace(ucfirst(design), \"_\", \" \"), column)    \n",
    "    \n",
    "    IJulia.clear_output(true)\n",
    "    display(\"text/html\", table_html)    \n",
    "end\n",
    "\n",
    "return"
   ]
  },
  {
   "cell_type": "code",
   "execution_count": 28,
   "metadata": {
    "collapsed": false
   },
   "outputs": [
    {
     "data": {
      "text/html": [
       "0.056"
      ],
      "text/plain": [
       "0.056"
      ]
     },
     "execution_count": 28,
     "metadata": {},
     "output_type": "execute_result"
    }
   ],
   "source": [
    "Tokamak.max_beta_N"
   ]
  },
  {
   "cell_type": "code",
   "execution_count": 29,
   "metadata": {
    "collapsed": false
   },
   "outputs": [
    {
     "data": {
      "text/html": [
       "0.75"
      ],
      "text/plain": [
       "0.75"
      ]
     },
     "execution_count": 29,
     "metadata": {},
     "output_type": "execute_result"
    }
   ],
   "source": [
    "Tokamak.f_DT"
   ]
  },
  {
   "cell_type": "code",
   "execution_count": 30,
   "metadata": {
    "collapsed": false
   },
   "outputs": [
    {
     "data": {
      "text/html": [
       "2.0"
      ],
      "text/plain": [
       "2.0"
      ]
     },
     "execution_count": 30,
     "metadata": {},
     "output_type": "execute_result"
    }
   ],
   "source": [
    "Tokamak.kappa"
   ]
  },
  {
   "cell_type": "code",
   "execution_count": 31,
   "metadata": {
    "collapsed": false
   },
   "outputs": [
    {
     "data": {
      "text/html": [
       "0.575"
      ],
      "text/plain": [
       "0.575"
      ]
     },
     "execution_count": 31,
     "metadata": {},
     "output_type": "execute_result"
    }
   ],
   "source": [
    "Tokamak.delta"
   ]
  },
  {
   "cell_type": "code",
   "execution_count": null,
   "metadata": {
    "collapsed": true
   },
   "outputs": [],
   "source": []
  }
 ],
 "metadata": {
  "kernelspec": {
   "display_name": "Julia 0.6.0",
   "language": "julia",
   "name": "julia-0.6"
  },
  "language_info": {
   "file_extension": ".jl",
   "mimetype": "application/julia",
   "name": "julia",
   "version": "0.6.0"
  },
  "widgets": {
   "state": {
    "00ae1f18-04a0-4207-898f-92d7772329bf": {
     "views": [
      {
       "cell_index": 7
      }
     ]
    },
    "00dd2217-993a-4f96-aeee-2207d7b21c21": {
     "views": [
      {
       "cell_index": 7
      }
     ]
    },
    "04dd2452-a356-457a-87f4-d6d3be7eecba": {
     "views": [
      {
       "cell_index": 7
      }
     ]
    },
    "07bfb679-a0e5-4049-a1fa-f0b3849ee0ed": {
     "views": [
      {
       "cell_index": 7
      }
     ]
    },
    "09a7fb33-d6da-4180-9b18-b39303eec7ad": {
     "views": [
      {
       "cell_index": 7
      }
     ]
    },
    "0c250411-8565-4ce7-a26c-451a2e2f2c59": {
     "views": [
      {
       "cell_index": 7
      }
     ]
    },
    "0ec31d6b-f6d6-49dd-a295-8ecb6f614c4c": {
     "views": [
      {
       "cell_index": 7
      }
     ]
    },
    "0f5a3551-5f00-46db-a585-a97883137a2e": {
     "views": [
      {
       "cell_index": 7
      }
     ]
    },
    "11026f4b-e590-4613-a82e-3851a42aa9b6": {
     "views": [
      {
       "cell_index": 7
      }
     ]
    },
    "116d189d-b013-4189-bdff-24833666ae9b": {
     "views": [
      {
       "cell_index": 7
      }
     ]
    },
    "1f51ddf9-604f-401b-b09d-2a532db47643": {
     "views": [
      {
       "cell_index": 7
      }
     ]
    },
    "203742b9-ce21-42d1-a7d1-04b0ddfc4185": {
     "views": [
      {
       "cell_index": 7
      }
     ]
    },
    "25debe1f-82fc-4cb2-96dd-0b7496626821": {
     "views": [
      {
       "cell_index": 7
      }
     ]
    },
    "2caac453-3092-4fd5-a87b-f937e015f4cd": {
     "views": [
      {
       "cell_index": 7
      }
     ]
    },
    "2ccf0b87-2809-49ed-9028-fa40ab0237c4": {
     "views": [
      {
       "cell_index": 7
      }
     ]
    },
    "3108ce85-4235-4c7f-b608-5de5c6273b0d": {
     "views": [
      {
       "cell_index": 7
      }
     ]
    },
    "371f2e3c-439e-4055-8792-beb507393140": {
     "views": [
      {
       "cell_index": 7
      }
     ]
    },
    "39667ef5-8088-406d-b31f-0628527f569c": {
     "views": [
      {
       "cell_index": 7
      }
     ]
    },
    "3a9962c3-3f20-4843-9b7f-aaa816c6c2ff": {
     "views": [
      {
       "cell_index": 7
      }
     ]
    },
    "3c0b3dfc-2668-4cdf-9bf5-b857d1becf31": {
     "views": [
      {
       "cell_index": 7
      }
     ]
    },
    "3c5e5c9f-c8c4-4122-9ccc-239c322d783d": {
     "views": [
      {
       "cell_index": 7
      }
     ]
    },
    "402dc90c-9f91-46c8-8820-08682b14a9e0": {
     "views": [
      {
       "cell_index": 7
      }
     ]
    },
    "44b79224-b270-4b7c-b0b4-a35d0358b190": {
     "views": [
      {
       "cell_index": 7
      }
     ]
    },
    "46bd61e9-b586-4590-8e9e-42c3bc8d2940": {
     "views": [
      {
       "cell_index": 7
      }
     ]
    },
    "4755021f-09d5-42ff-ba88-71f9a7e8051c": {
     "views": [
      {
       "cell_index": 7
      }
     ]
    },
    "47f1e1d5-7306-4189-84a4-0df9b140718b": {
     "views": [
      {
       "cell_index": 7
      }
     ]
    },
    "49c9b8f7-f3ec-40e6-88af-f4309cc1b11d": {
     "views": [
      {
       "cell_index": 7
      }
     ]
    },
    "4a7387b5-45ca-4e0d-a467-57d93919118b": {
     "views": [
      {
       "cell_index": 7
      }
     ]
    },
    "4c714b39-cdab-4c31-904a-0234a00876fc": {
     "views": [
      {
       "cell_index": 7
      }
     ]
    },
    "563f7bc9-987b-4981-ad05-b076aa10b08f": {
     "views": [
      {
       "cell_index": 7
      }
     ]
    },
    "57245f3c-3fae-4502-8f65-07cfe811a088": {
     "views": [
      {
       "cell_index": 7
      }
     ]
    },
    "5a3ccfe6-3252-45b9-ba0d-a15ad9a6253b": {
     "views": [
      {
       "cell_index": 7
      }
     ]
    },
    "5d2f89ce-288f-4a94-865a-441085bf7e16": {
     "views": [
      {
       "cell_index": 7
      }
     ]
    },
    "5e78075d-c5d6-4dcc-aab5-0b7fe271f24b": {
     "views": [
      {
       "cell_index": 7
      }
     ]
    },
    "659dc4c7-795a-4873-8a02-556e3293c10e": {
     "views": [
      {
       "cell_index": 7
      }
     ]
    },
    "65f2f8d3-c155-45f7-84f2-ca6d890c50d4": {
     "views": [
      {
       "cell_index": 7
      }
     ]
    },
    "66053586-8e4d-48a8-90f4-bb4ff6a343e5": {
     "views": [
      {
       "cell_index": 7
      }
     ]
    },
    "6bd3838d-e42a-4593-8b50-894db403682e": {
     "views": [
      {
       "cell_index": 7
      }
     ]
    },
    "6ef748a9-aebb-4a1d-80ca-26c62d795b35": {
     "views": [
      {
       "cell_index": 7
      }
     ]
    },
    "72643709-2196-44f6-bc82-75408f29fcf0": {
     "views": [
      {
       "cell_index": 7
      }
     ]
    },
    "743a2c3b-aca4-4dda-aba9-eff805131492": {
     "views": [
      {
       "cell_index": 7
      }
     ]
    },
    "75721824-018b-4a1e-832f-c13b9ed0ab6f": {
     "views": [
      {
       "cell_index": 7
      }
     ]
    },
    "7c0db941-1386-4b02-a8ef-1d9a4e434eec": {
     "views": [
      {
       "cell_index": 7
      }
     ]
    },
    "7c46671e-36f5-45dd-96f7-940b8939b211": {
     "views": [
      {
       "cell_index": 7
      }
     ]
    },
    "7f0a5438-19ce-4767-8519-03b0e48dcec9": {
     "views": [
      {
       "cell_index": 7
      }
     ]
    },
    "80784437-ce28-42ed-b3ee-4fac155ae905": {
     "views": [
      {
       "cell_index": 7
      }
     ]
    },
    "83a5e088-2c33-4f84-8c6a-a1f2d2b5228a": {
     "views": [
      {
       "cell_index": 7
      }
     ]
    },
    "87994512-c629-4bbe-b105-96f80364010c": {
     "views": [
      {
       "cell_index": 7
      }
     ]
    },
    "885e7327-5c83-43d7-91e9-3692c4456084": {
     "views": [
      {
       "cell_index": 7
      }
     ]
    },
    "88a159f6-ff35-4822-ace6-bf2f805eb3a6": {
     "views": [
      {
       "cell_index": 7
      }
     ]
    },
    "8961cc05-323c-4816-b761-b23f92affc39": {
     "views": [
      {
       "cell_index": 7
      }
     ]
    },
    "95e1768f-27b6-4e72-8010-148a66c70a80": {
     "views": [
      {
       "cell_index": 7
      }
     ]
    },
    "97dad841-4e50-4cf0-817e-9dcab022fe29": {
     "views": [
      {
       "cell_index": 7
      }
     ]
    },
    "9a23dda6-b7fb-4c54-a473-0ec765af52c9": {
     "views": [
      {
       "cell_index": 7
      }
     ]
    },
    "9ba1b413-0bc5-4f21-8a0d-f134c21c4d95": {
     "views": [
      {
       "cell_index": 7
      }
     ]
    },
    "9de80e5b-1849-4bb2-bada-0804a52f1c09": {
     "views": [
      {
       "cell_index": 7
      }
     ]
    },
    "9deab874-bbb8-4d26-bc13-0ef82a7fbfa7": {
     "views": [
      {
       "cell_index": 7
      }
     ]
    },
    "a085751a-c0ce-4d5f-ae7f-10ee0839bfc4": {
     "views": [
      {
       "cell_index": 7
      }
     ]
    },
    "a0e5b98c-b776-4ecb-824c-8834d6155ae2": {
     "views": [
      {
       "cell_index": 7
      }
     ]
    },
    "a1165542-5a24-4093-ab0b-7d4492f2834f": {
     "views": [
      {
       "cell_index": 7
      }
     ]
    },
    "a47c9589-772e-4e54-8bad-579fabd9b532": {
     "views": [
      {
       "cell_index": 7
      }
     ]
    },
    "a7e9a12d-4fe2-4679-80f3-06a6f11ab781": {
     "views": [
      {
       "cell_index": 7
      }
     ]
    },
    "a8cc98b8-c799-4407-b2e0-f5e0dcf1ee2e": {
     "views": [
      {
       "cell_index": 7
      }
     ]
    },
    "a9a16935-cbca-4942-b4fc-4b17bd36a214": {
     "views": [
      {
       "cell_index": 7
      }
     ]
    },
    "b2ae0273-1db7-48cb-a5a3-d8089dc59d25": {
     "views": [
      {
       "cell_index": 7
      }
     ]
    },
    "b94fbabb-f598-4ba6-942b-87e65997ca2b": {
     "views": [
      {
       "cell_index": 7
      }
     ]
    },
    "b9c8a0d3-5517-4d95-8fab-0fe01d67e434": {
     "views": [
      {
       "cell_index": 7
      }
     ]
    },
    "bd4280ac-8599-4617-a792-c057a0c0f135": {
     "views": [
      {
       "cell_index": 7
      }
     ]
    },
    "c032d6b9-e429-4d1b-bfb7-0574ee6f8954": {
     "views": [
      {
       "cell_index": 7
      }
     ]
    },
    "c4e43d00-16cf-4fc3-9b3d-3ebb321aef47": {
     "views": [
      {
       "cell_index": 7
      }
     ]
    },
    "c5b370e8-4b28-47db-9386-c32ade8f563e": {
     "views": [
      {
       "cell_index": 7
      }
     ]
    },
    "caebe5eb-3cf9-4953-bc49-3beee92ef836": {
     "views": [
      {
       "cell_index": 7
      }
     ]
    },
    "d051719e-8954-485f-95f7-2f556ad4111a": {
     "views": [
      {
       "cell_index": 7
      }
     ]
    },
    "d3554608-83b7-4fa8-a8cf-5ec0133e5b9f": {
     "views": [
      {
       "cell_index": 7
      }
     ]
    },
    "d494059c-731d-4c15-a9ee-66f98fa06418": {
     "views": [
      {
       "cell_index": 7
      }
     ]
    },
    "d66c8e5d-cbaf-425b-80f0-fb22603785ff": {
     "views": [
      {
       "cell_index": 7
      }
     ]
    },
    "dea51ab5-e574-4af2-a9ba-13c8277541aa": {
     "views": [
      {
       "cell_index": 7
      }
     ]
    },
    "deb37398-dd29-42b3-8dbf-bf6eac20f945": {
     "views": [
      {
       "cell_index": 7
      }
     ]
    },
    "e53c4fbd-b175-4e85-a9c9-35dedebac706": {
     "views": [
      {
       "cell_index": 7
      }
     ]
    },
    "e72a155b-08ee-4fb0-b439-acee43c4249e": {
     "views": [
      {
       "cell_index": 7
      }
     ]
    },
    "eb2e4be3-e1de-49d1-b25a-2d4eb0b4a42e": {
     "views": [
      {
       "cell_index": 7
      }
     ]
    },
    "ec0de640-1e03-41b5-bdf0-605049d4e5c9": {
     "views": [
      {
       "cell_index": 7
      }
     ]
    },
    "ecfc7ccd-9e74-485c-9d2c-f6351e6a0b72": {
     "views": [
      {
       "cell_index": 7
      }
     ]
    },
    "f41eed9d-72f8-461a-870c-36765dcf01be": {
     "views": [
      {
       "cell_index": 7
      }
     ]
    },
    "f5c6a13a-d588-4a70-ab09-4c1c1c00f1ad": {
     "views": [
      {
       "cell_index": 7
      }
     ]
    },
    "fc2a994a-5df4-4468-9d03-053002402cb1": {
     "views": [
      {
       "cell_index": 7
      }
     ]
    }
   },
   "version": "1.2.0"
  }
 },
 "nbformat": 4,
 "nbformat_minor": 2
}
